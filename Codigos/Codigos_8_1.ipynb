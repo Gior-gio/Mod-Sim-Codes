{
 "cells": [
  {
   "cell_type": "markdown",
   "metadata": {},
   "source": [
    "*Name:* Jorge Eduardo Angarita Pérez\n",
    "\n",
    "*Student Code:* 2248431\n",
    "\n",
    "In this code, some algortihms from 8.1 section are implemented"
   ]
  },
  {
   "cell_type": "markdown",
   "metadata": {},
   "source": [
    "First, some libraries are imported."
   ]
  },
  {
   "cell_type": "code",
   "execution_count": 36,
   "metadata": {},
   "outputs": [],
   "source": [
    "import numpy as np                          #General numerical data processing"
   ]
  },
  {
   "cell_type": "markdown",
   "metadata": {},
   "source": [
    "Function definition:\n",
    "\n",
    "**F(x)**"
   ]
  },
  {
   "cell_type": "code",
   "execution_count": 37,
   "metadata": {},
   "outputs": [],
   "source": [
    "def f(x):\n",
    "    y = np.power(x,2)+2*x\n",
    "    return y"
   ]
  },
  {
   "cell_type": "markdown",
   "metadata": {},
   "source": [
    "**Uniform Search**"
   ]
  },
  {
   "cell_type": "code",
   "execution_count": 58,
   "metadata": {},
   "outputs": [],
   "source": [
    "def Uniform_Search(lim_inf, lim_sup, n, l_stop):\n",
    "    # Initial uncertainty range\n",
    "    y = np.array([float(lim_inf), float(lim_sup)])\n",
    "    # Number of iterations\n",
    "    k = 1\n",
    "    while y[1]-y[0] >= l_stop:\n",
    "        # N Samples within the interval\n",
    "        samples = np.linspace(y[0], y[1], n)\n",
    "        # Function evaluation\n",
    "        eval_samp = f(samples)\n",
    "        # Minimum Index\n",
    "        min_index = np.argmin(eval_samp)\n",
    "        # Update the interval\n",
    "        y = np.array([samples[min_index - 1], samples[min_index + 1]])\n",
    "        # Increase iterations counter\n",
    "        k = k + 1\n",
    "    print(f'Intervalo final = {y} \\n Longitud final: {y[1]-y[0]}')\n",
    "    print(f'Valor medio final: {(y[1]+y[0])/2} \\n Iteraciones = {k}')\n",
    "    return y\n"
   ]
  },
  {
   "cell_type": "markdown",
   "metadata": {},
   "source": [
    "**Dichotomic Search**"
   ]
  },
  {
   "cell_type": "code",
   "execution_count": 39,
   "metadata": {},
   "outputs": [],
   "source": [
    "def Dichotomic_Search(lim_inf, lim_sup, epsilon, l_stop):\n",
    "    # Initial uncertainty range\n",
    "    y = np.array([float(lim_inf), float(lim_sup)])\n",
    "    # Number of iterations\n",
    "    k = 1\n",
    "    while y[1]-y[0] >= l_stop:\n",
    "        # Middle values\n",
    "        mid = np.array([(y[1]+y[0])/2 - epsilon, (y[1]+y[0])/2 + epsilon])\n",
    "        # Cost function evaluation\n",
    "        eval = f(mid)\n",
    "        # Interval update\n",
    "        if(eval[0] < eval[1]):\n",
    "            y[1] = mid[1]\n",
    "        else:\n",
    "            y[0] = mid[0]\n",
    "        # Increase iterations counter\n",
    "        k = k + 1\n",
    "    print(f'Intervalo final = {y} \\n Longitud final: {y[1]-y[0]}')\n",
    "    print(f'Valor medio final: {(y[1]+y[0])/2} \\n Iteraciones = {k}')\n",
    "    return y\n"
   ]
  },
  {
   "cell_type": "markdown",
   "metadata": {},
   "source": [
    "**Golden Search**"
   ]
  },
  {
   "cell_type": "code",
   "execution_count": 40,
   "metadata": {},
   "outputs": [],
   "source": [
    "def Golden_Search(lim_inf, lim_sup, l_stop):\n",
    "    # Initial uncertainty range\n",
    "    y = np.array([float(lim_inf), float(lim_sup)])\n",
    "    # Golden Ratio\n",
    "    phi = (np.power(5, 0.5)-1)/2\n",
    "    # Initialization Step (next = [lambda, mu])\n",
    "    next = np.array([y[0] + (1-phi)*(y[1]-y[0]), y[0]+(phi)*(y[1]-y[0])])\n",
    "    eval = f(next)\n",
    "    # Number of steps\n",
    "    k = 1\n",
    "    while y[1]-y[0] >= l_stop:\n",
    "        # Interval update\n",
    "        if(eval[0] > eval[1]):\n",
    "            y[0] = next[0]\n",
    "            next = [next[1], y[0]+(phi)*(y[1]-y[0])]\n",
    "            eval = [eval[1], f(next[1])]\n",
    "        else:\n",
    "            y[1] = next[1]\n",
    "            next = [y[0] + (1-phi)*(y[1]-y[0]), next[0]]\n",
    "            eval = [f(next[0]), eval[0]]\n",
    "        # Increase iterations counter\n",
    "        k = k + 1\n",
    "\n",
    "    # Print final information\n",
    "    print(f'Intervalo final = {y} \\n Longitud final: {y[1]-y[0]}')\n",
    "    print(f'Valor medio final: {(y[1]+y[0])/2} \\n Iteraciones = {k}')\n",
    "    return y\n",
    "\n"
   ]
  },
  {
   "cell_type": "markdown",
   "metadata": {},
   "source": [
    "**Fibbonacci Search**"
   ]
  },
  {
   "cell_type": "code",
   "execution_count": 55,
   "metadata": {},
   "outputs": [],
   "source": [
    "def Fibonacci_Search(lim_inf, lim_sup, epsilon, l_stop):\n",
    "    # Initial uncertainty range\n",
    "    y = np.array([float(lim_inf), float(lim_sup)])\n",
    "\n",
    "    # Number of iterations\n",
    "    k = 1\n",
    "\n",
    "    # Initialization\n",
    "    fib_n2 = 1  \n",
    "    fib_n1 = 1 \n",
    "    fib_n = fib_n1 + fib_n2 \n",
    "    n = (y[1]-y[0])/l_stop\n",
    "\n",
    "    # Find the number of steps\n",
    "    while fib_n < n:\n",
    "        fib_n2 = fib_n1\n",
    "        fib_n1 = fib_n\n",
    "        fib_n = fib_n1 + fib_n2\n",
    "\n",
    "    # next = [lambda, mu]\n",
    "    next = np.array([y[0]+(y[1]-y[0])*fib_n2/fib_n, y[0]+(y[1]-y[0])*fib_n1/fib_n])\n",
    "\n",
    "    # Cost function evaluation\n",
    "    eval = f(next)\n",
    "\n",
    "    while fib_n > 1:\n",
    "\n",
    "        # Next Fibbonacci\n",
    "        fib_n = fib_n1\n",
    "        fib_n1 = fib_n2\n",
    "        fib_n2 = fib_n - fib_n1\n",
    "\n",
    "        # Interval update\n",
    "        if(eval[0] > eval[1]):\n",
    "            y[0] = next[0]\n",
    "            next = [next[1], y[0]+(y[1]-y[0])*fib_n1/fib_n]\n",
    "            eval = [eval[1], f(next[1])]\n",
    "        else:\n",
    "            y[1] = next[1]\n",
    "            next = [y[0]+(y[1]-y[0])*fib_n2/fib_n, next[0]]\n",
    "            eval = [f(next[0]), eval[0]]\n",
    "\n",
    "        # Increase iterations counter\n",
    "        k = k + 1\n",
    "\n",
    "        # At the end the algorithm changes\n",
    "        if(k == n - 2):\n",
    "            # Both lambda and mu will be the same, so epsilon is used\n",
    "            next = [y[0], y[0]+epsilon]\n",
    "            eval = f(next)\n",
    "            if (eval[0] > eval[1]):\n",
    "                y[0] = next[0]\n",
    "            else:\n",
    "                y[1] = next[1]\n",
    "    print(f'Intervalo final = {y} \\n Longitud final: {y[1]-y[0]}')\n",
    "    print(f'Valor medio final: {(y[1]+y[0])/2} \\n Iteraciones = {k}')\n",
    "    return y"
   ]
  },
  {
   "cell_type": "markdown",
   "metadata": {},
   "source": [
    "Final Test:"
   ]
  },
  {
   "cell_type": "code",
   "execution_count": 59,
   "metadata": {},
   "outputs": [
    {
     "name": "stdout",
     "output_type": "stream",
     "text": [
      "Intervalo inicial = [-3,5] \n",
      "Epsilon = 1e-09 \n",
      "L. Stop = 0.2 \n",
      "\n",
      "\n",
      "----------Uniform Search----------\n",
      "Intervalo final = [-1.03566529 -0.9478738 ] \n",
      " Longitud final: 0.08779149519890272\n",
      "Valor medio final: -0.991769547325103 \n",
      " Iteraciones = 4\n",
      "\n",
      "----------Dichotomic Search----------\n",
      "Intervalo final = [-1.    -0.875] \n",
      " Longitud final: 0.12500000196874994\n",
      "Valor medio final: -0.937499999515625 \n",
      " Iteraciones = 7\n",
      "\n",
      "----------Golden Search----------\n",
      "Intervalo final = [-1.11145618 -0.94116629] \n",
      " Longitud final: 0.17028989001766526\n",
      "Valor medio final: -1.0263112349928498 \n",
      " Iteraciones = 9\n",
      "\n",
      "----------Fibonacci Search----------\n",
      "Intervalo final = [-1.10909091 -0.96363636] \n",
      " Longitud final: 0.14545454545454573\n",
      "Valor medio final: -1.0363636363636366 \n",
      " Iteraciones = 9\n"
     ]
    }
   ],
   "source": [
    "lim_inf = -3\n",
    "lim_sup = 5\n",
    "epsilon = 1E-9\n",
    "l_stop = 2E-1\n",
    "\n",
    "print(f'Intervalo inicial = [{lim_inf},{lim_sup}] \\nEpsilon = {epsilon} \\nL. Stop = {l_stop} \\n')\n",
    "\n",
    "print('\\n----------Uniform Search----------')\n",
    "x = Uniform_Search(lim_inf, lim_sup, 10, l_stop)\n",
    "\n",
    "print('\\n----------Dichotomic Search----------')\n",
    "x = Dichotomic_Search(lim_inf, lim_sup, epsilon, l_stop)\n",
    "\n",
    "print('\\n----------Golden Search----------')\n",
    "x = Golden_Search(lim_inf, lim_sup, l_stop)\n",
    "\n",
    "print('\\n----------Fibonacci Search----------')\n",
    "x = Fibonacci_Search(lim_inf, lim_sup, epsilon, l_stop)"
   ]
  }
 ],
 "metadata": {
  "kernelspec": {
   "display_name": "Python 3",
   "language": "python",
   "name": "python3"
  },
  "language_info": {
   "codemirror_mode": {
    "name": "ipython",
    "version": 3
   },
   "file_extension": ".py",
   "mimetype": "text/x-python",
   "name": "python",
   "nbconvert_exporter": "python",
   "pygments_lexer": "ipython3",
   "version": "3.10.12"
  }
 },
 "nbformat": 4,
 "nbformat_minor": 2
}
