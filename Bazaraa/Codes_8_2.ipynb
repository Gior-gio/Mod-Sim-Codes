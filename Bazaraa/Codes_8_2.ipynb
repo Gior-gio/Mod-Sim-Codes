{
 "cells": [
  {
   "cell_type": "markdown",
   "metadata": {},
   "source": [
    "*Name:* Jorge Eduardo Angarita Pérez\n",
    "\n",
    "*Student Code:* 2248431\n",
    "\n",
    "In this code, some algorithms from 8.2 section are implemented"
   ]
  },
  {
   "cell_type": "markdown",
   "metadata": {},
   "source": [
    "First, some libraries are imported."
   ]
  },
  {
   "cell_type": "code",
   "execution_count": 3,
   "metadata": {},
   "outputs": [],
   "source": [
    "import numpy as np                          #General numerical data processing"
   ]
  },
  {
   "cell_type": "markdown",
   "metadata": {},
   "source": [
    "Function definitions"
   ]
  },
  {
   "cell_type": "code",
   "execution_count": 4,
   "metadata": {},
   "outputs": [],
   "source": [
    "def f(x):\n",
    "    y = np.power(x,2)+2*x\n",
    "    return y\n",
    "\n",
    "def deriv(f, x, delta):\n",
    "    y = (f(x + delta) - f(x)) / delta\n",
    "    return y\n",
    "\n",
    "def Second_Deriv(f, x, delta):\n",
    "    y = (f(x + 2*delta) -2*f(x + delta) + f(x)) / delta**2\n",
    "    return y\n"
   ]
  },
  {
   "cell_type": "markdown",
   "metadata": {},
   "source": [
    "**Bisection Search**"
   ]
  },
  {
   "cell_type": "code",
   "execution_count": 5,
   "metadata": {},
   "outputs": [],
   "source": [
    "def Bisection_Search(lim_inf, lim_sup, l_stop):\n",
    "    # Initial uncertainty range\n",
    "    y = np.array([float(lim_inf), float(lim_sup)])\n",
    "    # Number of iterations\n",
    "    k = 1\n",
    "    while y[1]-y[0] >= l_stop:\n",
    "        # Middle values\n",
    "        mid = (y[1]+y[0])/2\n",
    "        # Middle Derivative\n",
    "        deriv_mid = deriv(f, mid, l_stop/100)\n",
    "        # Interval update\n",
    "        if(deriv_mid == 0):\n",
    "            # Stop if the derivative is equal to zero\n",
    "            return mid\n",
    "        elif(deriv_mid > 0):\n",
    "            y[1] = mid\n",
    "        else:\n",
    "            y[0] = mid\n",
    "        # Increase iterations counter\n",
    "        k = k + 1\n",
    "    print(f'Final Interval = {y} \\n Final Length: {y[1]-y[0]}')\n",
    "    print(f'Final Mid value: {mid} \\n Iterations = {k}')\n",
    "    return y"
   ]
  },
  {
   "cell_type": "markdown",
   "metadata": {},
   "source": [
    "**Newton Search**"
   ]
  },
  {
   "cell_type": "code",
   "execution_count": 6,
   "metadata": {},
   "outputs": [],
   "source": [
    "def Newton_Search(current, epsilon):\n",
    "    # Number of steps\n",
    "    k = 1\n",
    "    # Initialization (do While)\n",
    "    finish = False\n",
    "    while not(finish):\n",
    "        # First derivative\n",
    "        deriv_current = deriv(f, current, epsilon/100)\n",
    "        # Second derivative\n",
    "        Sec_Der_current = Second_Deriv(f, current, epsilon/100)\n",
    "        # Next iteration value\n",
    "        next = current- deriv_current / Sec_Der_current\n",
    "        # Finish flag\n",
    "        finish = (abs(next-current) < epsilon) | (abs(deriv_current) < epsilon)\n",
    "        if(finish):\n",
    "            print(f'Epsilon = {epsilon}')\n",
    "            print(f' Stop 1 = {abs(next-current)}; Stop 2 = {abs(deriv_current)}')\n",
    "        # Update value\n",
    "        current = next\n",
    "        # Increase iterations counter\n",
    "        k = k + 1\n",
    "    # Print final information\n",
    "    print(f'Final Value = {current} \\n Iterations = {k}')\n",
    "\n",
    "    return current"
   ]
  },
  {
   "cell_type": "markdown",
   "metadata": {},
   "source": [
    "Final Test"
   ]
  },
  {
   "cell_type": "code",
   "execution_count": 17,
   "metadata": {},
   "outputs": [
    {
     "name": "stdout",
     "output_type": "stream",
     "text": [
      "Intervalo inicial = [-3,5] \n",
      "L. Stop (Bisection) = 0.2 \n",
      "Epsilon (Newton) = 1e-09\n",
      "\n",
      "----------Bisection Search----------\n",
      "\n",
      "Final Interval = [-1.125 -1.   ] \n",
      " Final Length: 0.125\n",
      "Final Mid value: -1.125 \n",
      " Iterations = 7\n",
      "\n",
      "----------Newton Search----------\n",
      "\n",
      "Epsilon = 0.2\n",
      " Stop 1 = 2.058075931898884e-10; Stop 2 = 4.116151863797768e-10\n",
      "Final Value = -1.0010000000000276 \n",
      " Iterations = 3\n"
     ]
    }
   ],
   "source": [
    "lim_inf = -3\n",
    "lim_sup = 5\n",
    "epsilon = 1E-9\n",
    "l_stop = 2E-1\n",
    "\n",
    "print(f'Intervalo inicial = [{lim_inf},{lim_sup}] \\nL. Stop (Bisection) = {l_stop} \\nEpsilon (Newton) = {epsilon}')\n",
    "\n",
    "print('\\n----------Bisection Search----------\\n')\n",
    "x = Bisection_Search(lim_inf, lim_sup, l_stop)\n",
    "\n",
    "print('\\n----------Newton Search----------\\n')\n",
    "x = Newton_Search(1.5 , l_stop)"
   ]
  }
 ],
 "metadata": {
  "kernelspec": {
   "display_name": "Python 3",
   "language": "python",
   "name": "python3"
  },
  "language_info": {
   "codemirror_mode": {
    "name": "ipython",
    "version": 3
   },
   "file_extension": ".py",
   "mimetype": "text/x-python",
   "name": "python",
   "nbconvert_exporter": "python",
   "pygments_lexer": "ipython3",
   "version": "3.10.12"
  }
 },
 "nbformat": 4,
 "nbformat_minor": 2
}
